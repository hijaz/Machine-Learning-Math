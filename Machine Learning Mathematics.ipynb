{
 "cells": [
  {
   "cell_type": "markdown",
   "id": "1f432a09",
   "metadata": {},
   "source": [
    "# Machine Learning Mathematics\n",
    "\n",
    "## Table of Contents\n",
    "- [ 1 - Calculus](#1)\n",
    "- [ 2 - Linear Algebra](#2)\n",
    "- [ 3 - Statistics](#3)"
   ]
  },
  {
   "cell_type": "markdown",
   "id": "84e2e06d",
   "metadata": {},
   "source": [
    "<a name=\"1\"></a>\n",
    "\n",
    "## Calculus"
   ]
  },
  {
   "cell_type": "code",
   "execution_count": null,
   "id": "efef88c5",
   "metadata": {},
   "outputs": [],
   "source": []
  },
  {
   "cell_type": "code",
   "execution_count": null,
   "id": "6601faa8",
   "metadata": {},
   "outputs": [],
   "source": []
  },
  {
   "cell_type": "markdown",
   "id": "8c3ae1e7",
   "metadata": {},
   "source": [
    "<a name=\"2\"></a>\n",
    "\n",
    "## Linear Algebra"
   ]
  },
  {
   "cell_type": "code",
   "execution_count": null,
   "id": "d3c7bd3a",
   "metadata": {},
   "outputs": [],
   "source": []
  },
  {
   "cell_type": "markdown",
   "id": "10f20105",
   "metadata": {},
   "source": [
    "<a name=\"3\"></a>\n",
    "\n",
    "## Statistics"
   ]
  },
  {
   "cell_type": "code",
   "execution_count": null,
   "id": "cee8dd8a",
   "metadata": {},
   "outputs": [],
   "source": []
  }
 ],
 "metadata": {
  "kernelspec": {
   "display_name": "Python 3 (ipykernel)",
   "language": "python",
   "name": "python3"
  },
  "language_info": {
   "codemirror_mode": {
    "name": "ipython",
    "version": 3
   },
   "file_extension": ".py",
   "mimetype": "text/x-python",
   "name": "python",
   "nbconvert_exporter": "python",
   "pygments_lexer": "ipython3",
   "version": "3.10.9"
  }
 },
 "nbformat": 4,
 "nbformat_minor": 5
}
